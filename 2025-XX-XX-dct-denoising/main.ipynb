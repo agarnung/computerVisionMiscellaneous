{
 "cells": [
  {
   "cell_type": "code",
   "execution_count": null,
   "metadata": {},
   "outputs": [
    {
     "name": "stdout",
     "output_type": "stream",
     "text": [
      "Noisy image PSNR: 20.19\n",
      "Reconstruction (Hard) PSNR: 28.59\n",
      "Reconstruction (Soft) PSNR: 28.72\n"
     ]
    },
    {
     "ename": "",
     "evalue": "",
     "output_type": "error",
     "traceback": [
      "\u001b[1;31mThe Kernel crashed while executing code in the current cell or a previous cell. \n",
      "\u001b[1;31mPlease review the code in the cell(s) to identify a possible cause of the failure. \n",
      "\u001b[1;31mClick <a href='https://aka.ms/vscodeJupyterKernelCrash'>here</a> for more info. \n",
      "\u001b[1;31mView Jupyter <a href='command:jupyter.viewOutput'>log</a> for further details."
     ]
    }
   ],
   "source": [
    "import cv2\n",
    "import numpy as np\n",
    "import matplotlib.pyplot as plt\n",
    "\n",
    "def plot_central_row(image, title, color):\n",
    "    # Obtener la fila central de la imagen\n",
    "    row = image.shape[0] // 2\n",
    "    values = image[row, :]\n",
    "\n",
    "    # Dibujar la gráfica de la fila central\n",
    "    line, = plt.plot(values, label=title, color=color)\n",
    "    return line\n",
    "\n",
    "def main():\n",
    "    # Cargar la imagen en escala de grises\n",
    "    image = cv2.imread('/home/alejandro/Pictures/duna.jpg', cv2.IMREAD_GRAYSCALE)\n",
    "    image = cv2.resize(image, (512, 512))\n",
    "    \n",
    "    # Convertir la imagen a un rango [0, 1] para procesamiento\n",
    "    image = image.astype(np.float32) / 255.0\n",
    "\n",
    "    # Agregar ruido a la imagen\n",
    "    sigma_noise = 1e-1\n",
    "    noise = np.random.normal(0, sigma_noise, image.shape)\n",
    "    noisy_image = image + noise\n",
    "\n",
    "    # Hard-thresholding\n",
    "    dct = cv2.dct(np.float32(noisy_image))  # Aplicar DCT\n",
    "    hard_threshold = 3.2 * sigma_noise\n",
    "    dct[np.abs(dct) <= hard_threshold] = 0  # Umbralización dura\n",
    "    hard_cleanf = cv2.idct(dct)  # Inversa de DCT\n",
    "\n",
    "    # Soft-thresholding\n",
    "    soft_dct = dct.copy()\n",
    "    soft_threshold = 1.5 * sigma_noise\n",
    "    soft_dct[np.abs(soft_dct) <= 1e-6] = 0  # Eliminar valores muy pequeños\n",
    "    soft_dct = np.sign(soft_dct) * np.maximum(0, np.abs(soft_dct) - soft_threshold)  # Reducir coeficientes pequeños\n",
    "    soft_cleanf = cv2.idct(soft_dct)  # Inversa de DCT\n",
    "\n",
    "    # Convertir imágenes a [0, 255] para visualización\n",
    "    noisy_image = np.uint8(np.clip(noisy_image * 255, 0, 255))\n",
    "    image = np.uint8(np.clip(image * 255, 0, 255))\n",
    "    hard_cleanf = np.uint8(np.clip(hard_cleanf * 255, 0, 255))\n",
    "    soft_cleanf = np.uint8(np.clip(soft_cleanf * 255, 0, 255))\n",
    "\n",
    "    # Mostrar imágenes con OpenCV\n",
    "    cv2.imshow('Original Image', image)\n",
    "    cv2.imshow('Noisy Image', noisy_image)\n",
    "    cv2.imshow('Hard-Threshold Denoised', hard_cleanf)\n",
    "    cv2.imshow('Soft-Threshold Denoised', soft_cleanf)\n",
    "\n",
    "    # Mostrar el PSNR de cada imagen\n",
    "    print(f\"Noisy image PSNR: {cv2.PSNR(noisy_image, image):.2f}\")\n",
    "    print(f\"Reconstruction (Hard) PSNR: {cv2.PSNR(hard_cleanf, image):.2f}\")\n",
    "    print(f\"Reconstruction (Soft) PSNR: {cv2.PSNR(soft_cleanf, image):.2f}\")\n",
    "\n",
    "    # Graficar la fila central de cada imagen\n",
    "    plt.figure(figsize=(18, 10), dpi=700)  # Aumentar el tamaño de la figura para mayor resolución\n",
    "    line1 = plot_central_row(image, \"Original\", 'blue')\n",
    "    line2 = plot_central_row(noisy_image, \"Noisy\", 'red')\n",
    "    line3 = plot_central_row(hard_cleanf, \"Hard Denoised\", 'green')\n",
    "    line4 = plot_central_row(soft_cleanf, \"Soft Denoised\", 'purple')\n",
    "\n",
    "    # Mejorar el zoom de la gráfica para que se vea más detallada\n",
    "    plt.xlim(0, image.shape[1])  # Asegurarse de que el eje x cubra todo el ancho de la imagen\n",
    "    plt.ylim(0, 255)  # Limitar el eje y para que cubra el rango de intensidades [0, 255]\n",
    "\n",
    "    # Personalizar la gráfica\n",
    "    plt.legend()\n",
    "    plt.title(\"Central Row Intensity Profile\")\n",
    "    plt.xlabel(\"Pixel Position\")\n",
    "    plt.ylabel(\"Intensity\")\n",
    "\n",
    "    # Mostrar la gráfica\n",
    "    plt.show()\n",
    "\n",
    "    # Esperar una tecla para cerrar las ventanas de OpenCV\n",
    "    cv2.waitKey(0)\n",
    "    cv2.destroyAllWindows()\n",
    "\n",
    "if __name__ == '__main__':\n",
    "    main()\n"
   ]
  }
 ],
 "metadata": {
  "kernelspec": {
   "display_name": "testing",
   "language": "python",
   "name": "python3"
  },
  "language_info": {
   "codemirror_mode": {
    "name": "ipython",
    "version": 3
   },
   "file_extension": ".py",
   "mimetype": "text/x-python",
   "name": "python",
   "nbconvert_exporter": "python",
   "pygments_lexer": "ipython3",
   "version": "3.10.12"
  }
 },
 "nbformat": 4,
 "nbformat_minor": 2
}
